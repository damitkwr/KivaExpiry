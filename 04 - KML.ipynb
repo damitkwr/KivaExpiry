{
 "cells": [
  {
   "cell_type": "markdown",
   "metadata": {},
   "source": [
    "# Project 2\n",
    "\n",
    "Name: Dylan Connor  \n",
    "Andrew ID: dmconnor"
   ]
  },
  {
   "cell_type": "markdown",
   "metadata": {},
   "source": [
    "## KML Workbook"
   ]
  },
  {
   "cell_type": "code",
   "execution_count": 1,
   "metadata": {},
   "outputs": [],
   "source": [
    "import pandas as pd\n",
    "import numpy as np\n",
    "import matplotlib as plt\n",
    "import seaborn as sns\n",
    "import math\n",
    "import datetime"
   ]
  },
  {
   "cell_type": "code",
   "execution_count": 3,
   "metadata": {},
   "outputs": [],
   "source": [
    "#Lat, Lon and status data\n",
    "data_X = pd.read_csv(\"output_data/ML_Final_Data_v2.csv\", usecols = ['status', 'lat','lon'])\n",
    "data_X = data_X.dropna()"
   ]
  },
  {
   "cell_type": "code",
   "execution_count": 16,
   "metadata": {},
   "outputs": [],
   "source": [
    "#Group by lat lon and status to get aggregate counts\n",
    "to_plot = data_X.groupby(['lat','lon','status']).apply(lambda df : len(df)).unstack().reset_index()"
   ]
  },
  {
   "cell_type": "code",
   "execution_count": 17,
   "metadata": {},
   "outputs": [
    {
     "data": {
      "text/plain": [
       "1.0    34\n",
       "5.0    13\n",
       "2.0    13\n",
       "4.0    10\n",
       "3.0     8\n",
       "Name: funded, dtype: int64"
      ]
     },
     "execution_count": 17,
     "metadata": {},
     "output_type": "execute_result"
    }
   ],
   "source": [
    "to_plot['funded'].value_counts().head()"
   ]
  },
  {
   "cell_type": "code",
   "execution_count": 18,
   "metadata": {},
   "outputs": [
    {
     "data": {
      "text/plain": [
       "(0, 4)"
      ]
     },
     "execution_count": 18,
     "metadata": {},
     "output_type": "execute_result"
    }
   ],
   "source": [
    "to_plot_exp = to_plot.copy()\n",
    "to_plot_fund = to_plot.copy()\n",
    "to_plot_exp.drop(to_plot_exp.index, inplace=True)\n",
    "to_plot_fund.drop(to_plot_fund.index, inplace=True)\n",
    "to_plot_fund.shape"
   ]
  },
  {
   "cell_type": "code",
   "execution_count": 19,
   "metadata": {},
   "outputs": [],
   "source": [
    "for index, row in to_plot.iterrows():\n",
    "    if not math.isnan(row['funded']):        \n",
    "        a = int(row['funded'])\n",
    "        while a > 1000 :\n",
    "            to_plot_fund.loc[len(to_plot_fund)] = row\n",
    "            a = a - 1000"
   ]
  },
  {
   "cell_type": "code",
   "execution_count": 20,
   "metadata": {},
   "outputs": [
    {
     "data": {
      "text/plain": [
       "(438, 4)"
      ]
     },
     "execution_count": 20,
     "metadata": {},
     "output_type": "execute_result"
    }
   ],
   "source": [
    "to_plot_fund.shape"
   ]
  },
  {
   "cell_type": "code",
   "execution_count": 21,
   "metadata": {},
   "outputs": [],
   "source": [
    "for index, row in to_plot.iterrows():\n",
    "    if not math.isnan(row['expired']):        \n",
    "        a = int(row['expired'])\n",
    "        while a > 50 :\n",
    "            to_plot_exp.loc[len(to_plot_exp)] = row\n",
    "            a = a - 50"
   ]
  },
  {
   "cell_type": "code",
   "execution_count": 22,
   "metadata": {},
   "outputs": [
    {
     "data": {
      "text/plain": [
       "(661, 4)"
      ]
     },
     "execution_count": 22,
     "metadata": {},
     "output_type": "execute_result"
    }
   ],
   "source": [
    "to_plot_exp.shape"
   ]
  },
  {
   "cell_type": "code",
   "execution_count": 23,
   "metadata": {},
   "outputs": [],
   "source": [
    "#data_X = pd.read_csv(\"output_data/ML_Final_Data.csv\", usecols = ['status','lat','lon'])\n",
    "lat = data_X['lat'].values\n",
    "lon = data_X['lon'].values\n",
    "status = data_X['status'].values\n"
   ]
  },
  {
   "cell_type": "code",
   "execution_count": 27,
   "metadata": {},
   "outputs": [],
   "source": [
    "#Create KML string \n",
    "kml_header = (\"<?xml version=\\\"1.0\\\" encoding=\\\"UTF-8\\\" ?>\\n\" \n",
    "        + \"<kml xmlns=\\\"http://earth.google.com/kml/2.2\\\">\\n\"\n",
    "        + \"<Document>\\n\"\n",
    "        + \"\\t<Style id=\\\"style1\\\">\\n\"\n",
    "        + \"\\t\\t<IconStyle>\\n\"\n",
    "        + \"\\t\\t\\t<Icon>\\n\"\n",
    "        + \"\\t\\t\\t\\t<href>https://maps.google.com/mapfiles/kml/pal3/icon20.png\\n</href>\"\n",
    "        + \"\\t\\t\\t</Icon>\\n\"\n",
    "        + \"\\t\\t</IconStyle>\\n\"\n",
    "        + \"\\t</Style>\\n\"\n",
    "        + \"\\t<Style id=\\\"style2\\\">\\n\"\n",
    "        + \"\\t\\t<IconStyle>\\n\"\n",
    "        + \"\\t\\t\\t<Icon>\\n\"\n",
    "        + \"\\t\\t\\t\\t<href>https://maps.google.com/mapfiles/kml/pal3/icon46.png\\n</href>\"\n",
    "        + \"\\t\\t\\t</Icon>\\n\"\n",
    "        + \"\\t\\t</IconStyle>\\n\"\n",
    "        + \"\\t</Style>\\n\")\n",
    "kml_footer = \"</Document>\\n</kml>\"\n",
    "\n",
    "kml_coord = \"\"\n",
    "\n",
    "# Add funded\n",
    "for index, row in to_plot_fund.iterrows():\n",
    "    kml_coord = (kml_coord + \"<Placemark>\\n\"\n",
    "                + \"\\t<styleUrl>#style1</styleUrl>\\n\"\n",
    "                + \"\\t<Point>\\n\"\n",
    "                + \"\\t\\t<coordinates>\" + str(row['lon']) + \",\" + str(row['lat']) + \"</coordinates>\\n\"\n",
    "                + \"\\t</Point>\"\n",
    "                + \"</Placemark>\\n\")\n",
    "\n",
    "# Add expired\n",
    "for index, row in to_plot_exp.iterrows():\n",
    "        kml_coord = (kml_coord + \"<Placemark>\\n\"\n",
    "                + \"\\t<styleUrl>#style2</styleUrl>\\n\"\n",
    "                + \"\\t<Point>\\n\"\n",
    "                + \"\\t\\t<coordinates>\" + str(row['lon']) + \",\" + str(row['lat']) + \"</coordinates>\\n\"\n",
    "                + \"\\t</Point>\"\n",
    "                + \"</Placemark>\\n\")\n",
    "    "
   ]
  },
  {
   "cell_type": "code",
   "execution_count": 28,
   "metadata": {},
   "outputs": [],
   "source": [
    "#Write to kml\n",
    "kml = kml_header + kml_coord + kml_footer\n",
    "\n",
    "f = open('kiva2.kml','w')\n",
    "f.write(kml)\n",
    "f.close()\n"
   ]
  }
 ],
 "metadata": {
  "kernelspec": {
   "display_name": "Python 3",
   "language": "python",
   "name": "python3"
  },
  "language_info": {
   "codemirror_mode": {
    "name": "ipython",
    "version": 3
   },
   "file_extension": ".py",
   "mimetype": "text/x-python",
   "name": "python",
   "nbconvert_exporter": "python",
   "pygments_lexer": "ipython3",
   "version": "3.6.3"
  }
 },
 "nbformat": 4,
 "nbformat_minor": 2
}
